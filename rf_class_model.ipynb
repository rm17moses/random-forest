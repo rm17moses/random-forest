{
 "cells": [
  {
   "cell_type": "markdown",
   "id": "56bf515b",
   "metadata": {},
   "source": [
    "# Import Libraries"
   ]
  },
  {
   "cell_type": "code",
   "execution_count": 1,
   "id": "420edbaf",
   "metadata": {},
   "outputs": [],
   "source": [
    "import pandas as pd\n",
    "import numpy as np\n",
    "from sklearn.model_selection import train_test_split\n",
    "from sklearn.ensemble import RandomForestClassifier\n",
    "from sklearn.metrics import accuracy_score, confusion_matrix\n",
    "from sklearn.preprocessing import LabelEncoder\n",
    "import matplotlib.pyplot as plt\n",
    "\n",
    "\n",
    "# Load Data\n",
    "df = pd.read_excel(r\"C:\\Users\\moses\\projects\\capstone_app\\Group15_Soil_dataset.xlsx\")"
   ]
  },
  {
   "cell_type": "code",
   "execution_count": 2,
   "id": "a23e7438",
   "metadata": {},
   "outputs": [],
   "source": [
    "# Rename Columns\n",
    "column_mapping = {\n",
    "    \"Cd (mg/kg)\": \"Cd_value\",\n",
    "    \"Cr (mg/kg)\": \"Cr_value\",\n",
    "    \"Ni (mg/kg)\": \"Ni_value\",\n",
    "    \"Pb (mg/kg)\": \"Pb_value\",\n",
    "    \"Zn (mg/kg)\": \"Zn_value\",\n",
    "    \"Cu (mg/kg)\": \"Cu_value\",\n",
    "    \"Co (mg/kg)\": \"Co_value\",\n",
    "    \"Pollution Level\": \"Contamination\"\n",
    "}\n",
    "df = df.rename(columns=column_mapping)"
   ]
  },
  {
   "cell_type": "code",
   "execution_count": 3,
   "id": "96f4d397",
   "metadata": {},
   "outputs": [],
   "source": [
    "# Clean DataFrame\n",
    "df = df.loc[:, ~df.columns.str.contains('^Unnamed')]\n",
    "df.fillna(df.mean(numeric_only=True), inplace=True)\n",
    "\n",
    "# Define Drop Columns\n",
    "drop_columns = ['Contamination Factor (Cd)', 'pH (H2O)', 'Contamination Factor (Cr)', 'Contamination Factor (Ni)', \n",
    "                'Contamination Factor (Pb)', 'Contamination Factor (Zn)', 'Contamination Factor (Cu)', \n",
    "                'Contamination Factor (Co)', 'Contamination', 'mCdeg']\n"
   ]
  },
  {
   "cell_type": "code",
   "execution_count": 4,
   "id": "e9e4495c",
   "metadata": {},
   "outputs": [
    {
     "name": "stdout",
     "output_type": "stream",
     "text": [
      "Accuracy: 0.9852941176470589\n"
     ]
    }
   ],
   "source": [
    "# Define Features and Labels\n",
    "X = df.drop(drop_columns, axis=1)\n",
    "y = df['Contamination']\n",
    "\n",
    "# Encode Labels\n",
    "label_encoder = LabelEncoder()\n",
    "y = label_encoder.fit_transform(y)\n",
    "\n",
    "# Split Data\n",
    "X_train, X_test, y_train, y_test = train_test_split(X, y, test_size=0.2, random_state=42)\n",
    "\n",
    "# Train the Model\n",
    "rf_model = RandomForestClassifier()\n",
    "rf_model.fit(X_train, y_train)\n",
    "\n",
    "# Test the Model\n",
    "y_pred = rf_model.predict(X_test)\n",
    "accuracy = accuracy_score(y_test, y_pred)\n",
    "\n",
    "print(f'Accuracy: {accuracy}')"
   ]
  },
  {
   "cell_type": "code",
   "execution_count": 5,
   "id": "3b98bfff",
   "metadata": {},
   "outputs": [
    {
     "name": "stdout",
     "output_type": "stream",
     "text": [
      "Predicted Contamination Level: very low contamination\n"
     ]
    }
   ],
   "source": [
    "latitude_value = -30.7128\n",
    "longitude_value = 26.0060\n",
    "Cd_value = 5.0\n",
    "Cr_value = 5.0\n",
    "Ni_value = 5.0\n",
    "Pb_value = 5.0\n",
    "Zn_value = 5.0\n",
    "Cu_value = 5.0\n",
    "Co_value = 5.0\n",
    "\n",
    "# Create a numpy array with the high values\n",
    "X_new = pd.DataFrame([[latitude_value, longitude_value, Cd_value, Cr_value, Ni_value, Pb_value, Zn_value, Cu_value, Co_value]],\n",
    "                     columns=['Latitude', 'Longitude', 'Cd_value', 'Cr_value', 'Ni_value', 'Pb_value', 'Zn_value', 'Cu_value', 'Co_value'])\n",
    "\n",
    "\n",
    "# Make a prediction\n",
    "y_pred_new = rf_model.predict(X_new)\n",
    "\n",
    "# Inverse transform the prediction to get the original label\n",
    "predicted_label = label_encoder.inverse_transform(y_pred_new)\n",
    "\n",
    "print(f'Predicted Contamination Level: {predicted_label[0]}')"
   ]
  },
  {
   "cell_type": "code",
   "execution_count": 6,
   "id": "4143cf07",
   "metadata": {},
   "outputs": [],
   "source": [
    "import pickle\n",
    "\n",
    "# Save the model using pickle\n",
    "with open('rf_model.pkl', 'wb') as model_file:\n",
    "    pickle.dump(rf_model, model_file)\n",
    "    \n",
    "with open('label_encoder.pkl', 'wb') as encoder_file:\n",
    "    pickle.dump(label_encoder, encoder_file)\n",
    "\n"
   ]
  },
  {
   "cell_type": "code",
   "execution_count": null,
   "id": "8005267f",
   "metadata": {},
   "outputs": [
    {
     "ename": "",
     "evalue": "",
     "output_type": "error",
     "traceback": [
      "\u001b[1;31mFailed to start the Kernel. \n",
      "\u001b[1;31mUnable to start Kernel '.venv (Python 3.11.5)' due to a timeout waiting for the ports to get used. \n",
      "\u001b[1;31mView Jupyter <a href='command:jupyter.viewOutput'>log</a> for further details."
     ]
    }
   ],
   "source": [
    "import pandas as pd\n",
    "import numpy as np\n",
    "from sklearn.model_selection import train_test_split\n",
    "from sklearn.ensemble import RandomForestClassifier\n",
    "from sklearn.metrics import accuracy_score, confusion_matrix\n",
    "from sklearn.preprocessing import LabelEncoder\n",
    "import geopandas as gpd\n",
    "import matplotlib.pyplot as plt\n",
    "import pickle\n",
    "\n",
    "# Load Data\n",
    "df = pd.read_excel(r\"C:\\Users\\moses\\Downloads\\Group15_Soil_dataset.xlsx\")\n",
    "\n",
    "# Rename Columns\n",
    "column_mapping = {\n",
    "    \"Cd (mg/kg)\": \"Cd_value\",\n",
    "    \"Cr (mg/kg)\": \"Cr_value\",\n",
    "    \"Ni (mg/kg)\": \"Ni_value\",\n",
    "    \"Pb (mg/kg)\": \"Pb_value\",\n",
    "    \"Zn (mg/kg)\": \"Zn_value\",\n",
    "    \"Cu (mg/kg)\": \"Cu_value\",\n",
    "    \"Co (mg/kg)\": \"Co_value\",\n",
    "    \"Pollution Level\": \"Contamination\"\n",
    "}\n",
    "df = df.rename(columns=column_mapping)\n",
    "\n",
    "# Clean DataFrame\n",
    "df = df.loc[:, ~df.columns.str.contains('^Unnamed')]\n",
    "df.fillna(df.mean(numeric_only=True), inplace=True)\n",
    "\n",
    "# Define Drop Columns\n",
    "drop_columns = ['Contamination Factor (Cd)', 'pH (H2O)', 'Contamination Factor (Cr)', 'Contamination Factor (Ni)', \n",
    "                'Contamination Factor (Pb)', 'Contamination Factor (Zn)', 'Contamination Factor (Cu)', \n",
    "                'Contamination Factor (Co)', 'Contamination', 'mCdeg']\n",
    "\n",
    "# Define Features and Labels\n",
    "X = df.drop(drop_columns, axis=1)\n",
    "y = df['Contamination']\n",
    "\n",
    "# Encode Labels\n",
    "label_encoder = LabelEncoder()\n",
    "y = label_encoder.fit_transform(y)\n",
    "\n",
    "# Split Data\n",
    "X_train, X_test, y_train, y_test = train_test_split(X, y, test_size=0.2, random_state=42)\n",
    "\n",
    "# Train the Model\n",
    "rf_model = RandomForestClassifier()\n",
    "rf_model.fit(X_train, y_train)\n",
    "\n",
    "# Test the Model\n",
    "y_pred = rf_model.predict(X_test)\n",
    "accuracy = accuracy_score(y_test, y_pred)\n",
    "\n",
    "print(f'Accuracy: {accuracy}')\n",
    "\n",
    "latitude_value = -30.7128\n",
    "longitude_value = 26.0060\n",
    "Cd_value = 5.0\n",
    "Cr_value = 5.0\n",
    "Ni_value = 5.0\n",
    "Pb_value = 5.0\n",
    "Zn_value = 5.0\n",
    "Cu_value = 5.0\n",
    "Co_value = 5.0\n",
    "\n",
    "# Create a numpy array with the high values\n",
    "X_new = pd.DataFrame([[latitude_value, longitude_value, Cd_value, Cr_value, Ni_value, Pb_value, Zn_value, Cu_value, Co_value]],\n",
    "                     columns=['Latitude', 'Longitude', 'Cd_value', 'Cr_value', 'Ni_value', 'Pb_value', 'Zn_value', 'Cu_value', 'Co_value'])\n",
    "\n",
    "\n",
    "# Make a prediction\n",
    "y_pred_new = rf_model.predict(X_new)\n",
    "\n",
    "# Inverse transform the prediction to get the original label\n",
    "predicted_label = label_encoder.inverse_transform(y_pred_new)\n",
    "\n",
    "print(f'Predicted Contamination Level: {predicted_label[0]}')\n",
    "\n",
    "# Save the model using pickle\n",
    "with open('rf_model.pkl', 'wb') as model_file:\n",
    "    pickle.dump(rf_model, model_file)\n",
    "    \n",
    "with open('label_encoder.pkl', 'wb') as encoder_file:\n",
    "    pickle.dump(label_encoder, encoder_file)\n",
    "\n",
    "# Load the model using pickle\n",
    "with open('rf_model.pkl', 'rb') as model_file:\n",
    "    rf_model = pickle.load(model_file)"
   ]
  }
 ],
 "metadata": {
  "kernelspec": {
   "display_name": "Python 3 (ipykernel)",
   "language": "python",
   "name": "python3"
  },
  "language_info": {
   "codemirror_mode": {
    "name": "ipython",
    "version": 3
   },
   "file_extension": ".py",
   "mimetype": "text/x-python",
   "name": "python",
   "nbconvert_exporter": "python",
   "pygments_lexer": "ipython3",
   "version": "3.10.9"
  }
 },
 "nbformat": 4,
 "nbformat_minor": 5
}
